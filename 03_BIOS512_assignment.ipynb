{
 "cells": [
  {
   "cell_type": "markdown",
   "id": "e9216b63-c18a-4c9b-beff-4b6b2e1b6964",
   "metadata": {},
   "source": [
    "# BIOS512 Assignment #3"
   ]
  },
  {
   "cell_type": "markdown",
   "id": "4403015e-d27f-473c-8720-088ac6db57c9",
   "metadata": {},
   "source": [
    "Import the 📈Tidyverse into your `R` session"
   ]
  },
  {
   "cell_type": "code",
   "execution_count": 1,
   "id": "2cb997c6-b57c-4198-aa5c-8be897467c7c",
   "metadata": {
    "tags": []
   },
   "outputs": [
    {
     "name": "stderr",
     "output_type": "stream",
     "text": [
      "Warning message:\n",
      "“Failed to locate timezone database”\n",
      "── \u001b[1mAttaching core tidyverse packages\u001b[22m ──────────────────────── tidyverse 2.0.0 ──\n",
      "\u001b[32m✔\u001b[39m \u001b[34mdplyr    \u001b[39m 1.1.3     \u001b[32m✔\u001b[39m \u001b[34mreadr    \u001b[39m 2.1.4\n",
      "\u001b[32m✔\u001b[39m \u001b[34mforcats  \u001b[39m 1.0.0     \u001b[32m✔\u001b[39m \u001b[34mstringr  \u001b[39m 1.5.0\n",
      "\u001b[32m✔\u001b[39m \u001b[34mggplot2  \u001b[39m 3.4.3     \u001b[32m✔\u001b[39m \u001b[34mtibble   \u001b[39m 3.2.1\n",
      "\u001b[32m✔\u001b[39m \u001b[34mlubridate\u001b[39m 1.9.2     \u001b[32m✔\u001b[39m \u001b[34mtidyr    \u001b[39m 1.3.0\n",
      "\u001b[32m✔\u001b[39m \u001b[34mpurrr    \u001b[39m 1.0.2     \n",
      "── \u001b[1mConflicts\u001b[22m ────────────────────────────────────────── tidyverse_conflicts() ──\n",
      "\u001b[31m✖\u001b[39m \u001b[34mdplyr\u001b[39m::\u001b[32mfilter()\u001b[39m masks \u001b[34mstats\u001b[39m::filter()\n",
      "\u001b[31m✖\u001b[39m \u001b[34mdplyr\u001b[39m::\u001b[32mlag()\u001b[39m    masks \u001b[34mstats\u001b[39m::lag()\n",
      "\u001b[36mℹ\u001b[39m Use the conflicted package (\u001b[3m\u001b[34m<http://conflicted.r-lib.org/>\u001b[39m\u001b[23m) to force all conflicts to become errors\n"
     ]
    }
   ],
   "source": [
    "library('tidyverse')"
   ]
  },
  {
   "cell_type": "markdown",
   "id": "47ccf7f6-01c6-46b4-94a1-f8dcd8ef8377",
   "metadata": {},
   "source": [
    "In this assignment we'll be using data from the [TidyTuesday Project](https://github.com/rfordatascience/tidytuesday). Specifically, we'll investigate vaccination rates at US schools. A `CSV` file of the data is located at:  \n",
    "\n",
    "[https://github.com/rfordatascience/tidytuesday/blob/master/data/2020/2020-02-25/measles.csv](https://github.com/rfordatascience/tidytuesday/blob/master/data/2020/2020-02-25/measles.csv)\n",
    "\n",
    "Get the \"raw\" data URL and import it into your `R` session using `read_csv`. Remember to capture the data under a variable name of your choosing!"
   ]
  },
  {
   "cell_type": "code",
   "execution_count": 2,
   "id": "8de37571-29da-4393-b1eb-ca13fcd70fed",
   "metadata": {
    "tags": []
   },
   "outputs": [
    {
     "data": {
      "text/html": [
       "<table class=\"dataframe\">\n",
       "<caption>A data.frame: 6 × 16</caption>\n",
       "<thead>\n",
       "\t<tr><th></th><th scope=col>index</th><th scope=col>state</th><th scope=col>year</th><th scope=col>name</th><th scope=col>type</th><th scope=col>city</th><th scope=col>county</th><th scope=col>district</th><th scope=col>enroll</th><th scope=col>mmr</th><th scope=col>overall</th><th scope=col>xrel</th><th scope=col>xmed</th><th scope=col>xper</th><th scope=col>lat</th><th scope=col>lng</th></tr>\n",
       "\t<tr><th></th><th scope=col>&lt;int&gt;</th><th scope=col>&lt;chr&gt;</th><th scope=col>&lt;chr&gt;</th><th scope=col>&lt;chr&gt;</th><th scope=col>&lt;chr&gt;</th><th scope=col>&lt;chr&gt;</th><th scope=col>&lt;chr&gt;</th><th scope=col>&lt;lgl&gt;</th><th scope=col>&lt;int&gt;</th><th scope=col>&lt;dbl&gt;</th><th scope=col>&lt;dbl&gt;</th><th scope=col>&lt;lgl&gt;</th><th scope=col>&lt;dbl&gt;</th><th scope=col>&lt;dbl&gt;</th><th scope=col>&lt;dbl&gt;</th><th scope=col>&lt;dbl&gt;</th></tr>\n",
       "</thead>\n",
       "<tbody>\n",
       "\t<tr><th scope=row>1</th><td>1</td><td>Arizona</td><td>2018-19</td><td>A J Mitchell Elementary                 </td><td>Public </td><td>Nogales</td><td>Santa Cruz</td><td>NA</td><td>51</td><td>100</td><td>-1</td><td>NA</td><td>  NA</td><td>  NA</td><td>31.34782</td><td>-110.9380</td></tr>\n",
       "\t<tr><th scope=row>2</th><td>2</td><td>Arizona</td><td>2018-19</td><td>Academy Del Sol                         </td><td>Charter</td><td>Tucson </td><td>Pima      </td><td>NA</td><td>22</td><td>100</td><td>-1</td><td>NA</td><td>  NA</td><td>  NA</td><td>32.22192</td><td>-110.8961</td></tr>\n",
       "\t<tr><th scope=row>3</th><td>3</td><td>Arizona</td><td>2018-19</td><td>Academy Del Sol - Hope                  </td><td>Charter</td><td>Tucson </td><td>Pima      </td><td>NA</td><td>85</td><td>100</td><td>-1</td><td>NA</td><td>  NA</td><td>  NA</td><td>32.13049</td><td>-111.1170</td></tr>\n",
       "\t<tr><th scope=row>4</th><td>4</td><td>Arizona</td><td>2018-19</td><td>Academy Of Mathematics And Science South</td><td>Charter</td><td>Phoenix</td><td>Maricopa  </td><td>NA</td><td>60</td><td>100</td><td>-1</td><td>NA</td><td>  NA</td><td>  NA</td><td>33.48545</td><td>-112.1306</td></tr>\n",
       "\t<tr><th scope=row>5</th><td>5</td><td>Arizona</td><td>2018-19</td><td>Acclaim Academy                         </td><td>Charter</td><td>Phoenix</td><td>Maricopa  </td><td>NA</td><td>43</td><td>100</td><td>-1</td><td>NA</td><td>2.33</td><td>2.33</td><td>33.49562</td><td>-112.2247</td></tr>\n",
       "\t<tr><th scope=row>6</th><td>6</td><td>Arizona</td><td>2018-19</td><td>Alfred F Garcia                         </td><td>Public </td><td>Phoenix</td><td>Maricopa  </td><td>NA</td><td>36</td><td>100</td><td>-1</td><td>NA</td><td>  NA</td><td>  NA</td><td>33.43532</td><td>-112.1168</td></tr>\n",
       "</tbody>\n",
       "</table>\n"
      ],
      "text/latex": [
       "A data.frame: 6 × 16\n",
       "\\begin{tabular}{r|llllllllllllllll}\n",
       "  & index & state & year & name & type & city & county & district & enroll & mmr & overall & xrel & xmed & xper & lat & lng\\\\\n",
       "  & <int> & <chr> & <chr> & <chr> & <chr> & <chr> & <chr> & <lgl> & <int> & <dbl> & <dbl> & <lgl> & <dbl> & <dbl> & <dbl> & <dbl>\\\\\n",
       "\\hline\n",
       "\t1 & 1 & Arizona & 2018-19 & A J Mitchell Elementary                  & Public  & Nogales & Santa Cruz & NA & 51 & 100 & -1 & NA &   NA &   NA & 31.34782 & -110.9380\\\\\n",
       "\t2 & 2 & Arizona & 2018-19 & Academy Del Sol                          & Charter & Tucson  & Pima       & NA & 22 & 100 & -1 & NA &   NA &   NA & 32.22192 & -110.8961\\\\\n",
       "\t3 & 3 & Arizona & 2018-19 & Academy Del Sol - Hope                   & Charter & Tucson  & Pima       & NA & 85 & 100 & -1 & NA &   NA &   NA & 32.13049 & -111.1170\\\\\n",
       "\t4 & 4 & Arizona & 2018-19 & Academy Of Mathematics And Science South & Charter & Phoenix & Maricopa   & NA & 60 & 100 & -1 & NA &   NA &   NA & 33.48545 & -112.1306\\\\\n",
       "\t5 & 5 & Arizona & 2018-19 & Acclaim Academy                          & Charter & Phoenix & Maricopa   & NA & 43 & 100 & -1 & NA & 2.33 & 2.33 & 33.49562 & -112.2247\\\\\n",
       "\t6 & 6 & Arizona & 2018-19 & Alfred F Garcia                          & Public  & Phoenix & Maricopa   & NA & 36 & 100 & -1 & NA &   NA &   NA & 33.43532 & -112.1168\\\\\n",
       "\\end{tabular}\n"
      ],
      "text/markdown": [
       "\n",
       "A data.frame: 6 × 16\n",
       "\n",
       "| <!--/--> | index &lt;int&gt; | state &lt;chr&gt; | year &lt;chr&gt; | name &lt;chr&gt; | type &lt;chr&gt; | city &lt;chr&gt; | county &lt;chr&gt; | district &lt;lgl&gt; | enroll &lt;int&gt; | mmr &lt;dbl&gt; | overall &lt;dbl&gt; | xrel &lt;lgl&gt; | xmed &lt;dbl&gt; | xper &lt;dbl&gt; | lat &lt;dbl&gt; | lng &lt;dbl&gt; |\n",
       "|---|---|---|---|---|---|---|---|---|---|---|---|---|---|---|---|---|\n",
       "| 1 | 1 | Arizona | 2018-19 | A J Mitchell Elementary                  | Public  | Nogales | Santa Cruz | NA | 51 | 100 | -1 | NA |   NA |   NA | 31.34782 | -110.9380 |\n",
       "| 2 | 2 | Arizona | 2018-19 | Academy Del Sol                          | Charter | Tucson  | Pima       | NA | 22 | 100 | -1 | NA |   NA |   NA | 32.22192 | -110.8961 |\n",
       "| 3 | 3 | Arizona | 2018-19 | Academy Del Sol - Hope                   | Charter | Tucson  | Pima       | NA | 85 | 100 | -1 | NA |   NA |   NA | 32.13049 | -111.1170 |\n",
       "| 4 | 4 | Arizona | 2018-19 | Academy Of Mathematics And Science South | Charter | Phoenix | Maricopa   | NA | 60 | 100 | -1 | NA |   NA |   NA | 33.48545 | -112.1306 |\n",
       "| 5 | 5 | Arizona | 2018-19 | Acclaim Academy                          | Charter | Phoenix | Maricopa   | NA | 43 | 100 | -1 | NA | 2.33 | 2.33 | 33.49562 | -112.2247 |\n",
       "| 6 | 6 | Arizona | 2018-19 | Alfred F Garcia                          | Public  | Phoenix | Maricopa   | NA | 36 | 100 | -1 | NA |   NA |   NA | 33.43532 | -112.1168 |\n",
       "\n"
      ],
      "text/plain": [
       "  index state   year    name                                     type   \n",
       "1 1     Arizona 2018-19 A J Mitchell Elementary                  Public \n",
       "2 2     Arizona 2018-19 Academy Del Sol                          Charter\n",
       "3 3     Arizona 2018-19 Academy Del Sol - Hope                   Charter\n",
       "4 4     Arizona 2018-19 Academy Of Mathematics And Science South Charter\n",
       "5 5     Arizona 2018-19 Acclaim Academy                          Charter\n",
       "6 6     Arizona 2018-19 Alfred F Garcia                          Public \n",
       "  city    county     district enroll mmr overall xrel xmed xper lat     \n",
       "1 Nogales Santa Cruz NA       51     100 -1      NA     NA   NA 31.34782\n",
       "2 Tucson  Pima       NA       22     100 -1      NA     NA   NA 32.22192\n",
       "3 Tucson  Pima       NA       85     100 -1      NA     NA   NA 32.13049\n",
       "4 Phoenix Maricopa   NA       60     100 -1      NA     NA   NA 33.48545\n",
       "5 Phoenix Maricopa   NA       43     100 -1      NA   2.33 2.33 33.49562\n",
       "6 Phoenix Maricopa   NA       36     100 -1      NA     NA   NA 33.43532\n",
       "  lng      \n",
       "1 -110.9380\n",
       "2 -110.8961\n",
       "3 -111.1170\n",
       "4 -112.1306\n",
       "5 -112.2247\n",
       "6 -112.1168"
      ]
     },
     "metadata": {},
     "output_type": "display_data"
    }
   ],
   "source": [
    "measles = read.csv('measles.csv')\n",
    "head(measles)"
   ]
  },
  {
   "cell_type": "markdown",
   "id": "feb89cec-8cda-457d-95cf-89dbfa932ab4",
   "metadata": {},
   "source": [
    "The `mmr` column has holds 🤒 measles, mumps, rubella 🤒 vaccination rates for students in each respective school. **If the `mmr` value is not available for a school the `mmr` value is set to -1 in this data set.** \n",
    "\n",
    "The target `mmr` vaccination rate as [recommended by the CDC](https://www.cdc.gov/mmwr/preview/mmwrhtml/mm5632a3.htm) for schools is 95%. \n",
    "\n",
    "**Calculate the fraction of schools per state that have vaccination rates greater than the CDC 95%. Capture the output as a table called `df_vacc_rates`.**\n",
    "\n",
    "You'll need to do use `filter`, `group_by`, and `summarize`. \n",
    "\n",
    "I.e.\n",
    "1. Filter out schools that don't report `mmr` vaccination rate (keep schools where `mmr >= 0`).\n",
    "1. Group the data by `state`.\n",
    "1. Summarize fracion of vaccination rates above 95%.\n",
    "\n",
    "💡Remember `n()` stands for the number or records in a group. Also, `sum(mmr >= 95, na.rm=TRUE)` will count the number of values above or equal to 95.💡"
   ]
  },
  {
   "cell_type": "code",
   "execution_count": 3,
   "id": "0ba9a861-00fc-4392-a67d-cddbd5a994e0",
   "metadata": {
    "tags": []
   },
   "outputs": [
    {
     "data": {
      "text/html": [
       "<table class=\"dataframe\">\n",
       "<caption>A tibble: 21 × 2</caption>\n",
       "<thead>\n",
       "\t<tr><th scope=col>state</th><th scope=col>fraction_above_95</th></tr>\n",
       "\t<tr><th scope=col>&lt;chr&gt;</th><th scope=col>&lt;dbl&gt;</th></tr>\n",
       "</thead>\n",
       "<tbody>\n",
       "\t<tr><td>Arizona      </td><td>0.506404782</td></tr>\n",
       "\t<tr><td>Arkansas     </td><td>0.003527337</td></tr>\n",
       "\t<tr><td>California   </td><td>0.888506151</td></tr>\n",
       "\t<tr><td>Colorado     </td><td>0.623092236</td></tr>\n",
       "\t<tr><td>Connecticut  </td><td>0.811544992</td></tr>\n",
       "\t<tr><td>Illinois     </td><td>0.896825397</td></tr>\n",
       "\t<tr><td>Maine        </td><td>0.473389356</td></tr>\n",
       "\t<tr><td>Massachusetts</td><td>0.865828092</td></tr>\n",
       "\t<tr><td>Minnesota    </td><td>0.473948525</td></tr>\n",
       "\t<tr><td>Missouri     </td><td>0.680000000</td></tr>\n",
       "\t<tr><td>Montana      </td><td>0.708812261</td></tr>\n",
       "\t<tr><td>New York     </td><td>0.859822073</td></tr>\n",
       "\t<tr><td>North Dakota </td><td>0.455555556</td></tr>\n",
       "\t<tr><td>Ohio         </td><td>0.491606715</td></tr>\n",
       "\t<tr><td>Oregon       </td><td>0.593052109</td></tr>\n",
       "\t<tr><td>Pennsylvania </td><td>0.834966478</td></tr>\n",
       "\t<tr><td>South Dakota </td><td>0.742627346</td></tr>\n",
       "\t<tr><td>Texas        </td><td>0.626387176</td></tr>\n",
       "\t<tr><td>Utah         </td><td>0.679933665</td></tr>\n",
       "\t<tr><td>Vermont      </td><td>0.683431953</td></tr>\n",
       "\t<tr><td>Washington   </td><td>0.326592518</td></tr>\n",
       "</tbody>\n",
       "</table>\n"
      ],
      "text/latex": [
       "A tibble: 21 × 2\n",
       "\\begin{tabular}{ll}\n",
       " state & fraction\\_above\\_95\\\\\n",
       " <chr> & <dbl>\\\\\n",
       "\\hline\n",
       "\t Arizona       & 0.506404782\\\\\n",
       "\t Arkansas      & 0.003527337\\\\\n",
       "\t California    & 0.888506151\\\\\n",
       "\t Colorado      & 0.623092236\\\\\n",
       "\t Connecticut   & 0.811544992\\\\\n",
       "\t Illinois      & 0.896825397\\\\\n",
       "\t Maine         & 0.473389356\\\\\n",
       "\t Massachusetts & 0.865828092\\\\\n",
       "\t Minnesota     & 0.473948525\\\\\n",
       "\t Missouri      & 0.680000000\\\\\n",
       "\t Montana       & 0.708812261\\\\\n",
       "\t New York      & 0.859822073\\\\\n",
       "\t North Dakota  & 0.455555556\\\\\n",
       "\t Ohio          & 0.491606715\\\\\n",
       "\t Oregon        & 0.593052109\\\\\n",
       "\t Pennsylvania  & 0.834966478\\\\\n",
       "\t South Dakota  & 0.742627346\\\\\n",
       "\t Texas         & 0.626387176\\\\\n",
       "\t Utah          & 0.679933665\\\\\n",
       "\t Vermont       & 0.683431953\\\\\n",
       "\t Washington    & 0.326592518\\\\\n",
       "\\end{tabular}\n"
      ],
      "text/markdown": [
       "\n",
       "A tibble: 21 × 2\n",
       "\n",
       "| state &lt;chr&gt; | fraction_above_95 &lt;dbl&gt; |\n",
       "|---|---|\n",
       "| Arizona       | 0.506404782 |\n",
       "| Arkansas      | 0.003527337 |\n",
       "| California    | 0.888506151 |\n",
       "| Colorado      | 0.623092236 |\n",
       "| Connecticut   | 0.811544992 |\n",
       "| Illinois      | 0.896825397 |\n",
       "| Maine         | 0.473389356 |\n",
       "| Massachusetts | 0.865828092 |\n",
       "| Minnesota     | 0.473948525 |\n",
       "| Missouri      | 0.680000000 |\n",
       "| Montana       | 0.708812261 |\n",
       "| New York      | 0.859822073 |\n",
       "| North Dakota  | 0.455555556 |\n",
       "| Ohio          | 0.491606715 |\n",
       "| Oregon        | 0.593052109 |\n",
       "| Pennsylvania  | 0.834966478 |\n",
       "| South Dakota  | 0.742627346 |\n",
       "| Texas         | 0.626387176 |\n",
       "| Utah          | 0.679933665 |\n",
       "| Vermont       | 0.683431953 |\n",
       "| Washington    | 0.326592518 |\n",
       "\n"
      ],
      "text/plain": [
       "   state         fraction_above_95\n",
       "1  Arizona       0.506404782      \n",
       "2  Arkansas      0.003527337      \n",
       "3  California    0.888506151      \n",
       "4  Colorado      0.623092236      \n",
       "5  Connecticut   0.811544992      \n",
       "6  Illinois      0.896825397      \n",
       "7  Maine         0.473389356      \n",
       "8  Massachusetts 0.865828092      \n",
       "9  Minnesota     0.473948525      \n",
       "10 Missouri      0.680000000      \n",
       "11 Montana       0.708812261      \n",
       "12 New York      0.859822073      \n",
       "13 North Dakota  0.455555556      \n",
       "14 Ohio          0.491606715      \n",
       "15 Oregon        0.593052109      \n",
       "16 Pennsylvania  0.834966478      \n",
       "17 South Dakota  0.742627346      \n",
       "18 Texas         0.626387176      \n",
       "19 Utah          0.679933665      \n",
       "20 Vermont       0.683431953      \n",
       "21 Washington    0.326592518      "
      ]
     },
     "metadata": {},
     "output_type": "display_data"
    }
   ],
   "source": [
    "# create the df_vacc_rates here\n",
    "\n",
    "df_vacc_rates = measles |> \n",
    "    filter(mmr >= 0) |> \n",
    "    group_by(state) |> \n",
    "    summarize(fraction_above_95 = sum(mmr >= 95, na.rm=TRUE)/n())\n",
    "\n",
    "df_vacc_rates"
   ]
  },
  {
   "cell_type": "markdown",
   "id": "900ddf7f-d801-4a70-9453-73bdd3277344",
   "metadata": {},
   "source": [
    "Which state (of those that report `mmr`) has the smallest fraction of schools above the CDC target vaccination rate of 95%?  "
   ]
  },
  {
   "cell_type": "code",
   "execution_count": 6,
   "id": "13812611-a534-46c2-aae6-0f6c645273e0",
   "metadata": {},
   "outputs": [
    {
     "data": {
      "text/html": [
       "<table class=\"dataframe\">\n",
       "<caption>A tibble: 1 × 2</caption>\n",
       "<thead>\n",
       "\t<tr><th scope=col>state</th><th scope=col>fraction_above_95</th></tr>\n",
       "\t<tr><th scope=col>&lt;chr&gt;</th><th scope=col>&lt;dbl&gt;</th></tr>\n",
       "</thead>\n",
       "<tbody>\n",
       "\t<tr><td>Arkansas</td><td>0.003527337</td></tr>\n",
       "</tbody>\n",
       "</table>\n"
      ],
      "text/latex": [
       "A tibble: 1 × 2\n",
       "\\begin{tabular}{ll}\n",
       " state & fraction\\_above\\_95\\\\\n",
       " <chr> & <dbl>\\\\\n",
       "\\hline\n",
       "\t Arkansas & 0.003527337\\\\\n",
       "\\end{tabular}\n"
      ],
      "text/markdown": [
       "\n",
       "A tibble: 1 × 2\n",
       "\n",
       "| state &lt;chr&gt; | fraction_above_95 &lt;dbl&gt; |\n",
       "|---|---|\n",
       "| Arkansas | 0.003527337 |\n",
       "\n"
      ],
      "text/plain": [
       "  state    fraction_above_95\n",
       "1 Arkansas 0.003527337      "
      ]
     },
     "metadata": {},
     "output_type": "display_data"
    }
   ],
   "source": [
    "df_vacc_rates |> \n",
    "    arrange(fraction_above_95) |>\n",
    "    head(1)"
   ]
  },
  {
   "cell_type": "markdown",
   "id": "b04e02cf-1087-47e9-829f-35b83522ab1c",
   "metadata": {},
   "source": [
    " ### Smallest rate of schools above 95% is \n",
    " ## Arkansas"
   ]
  },
  {
   "cell_type": "markdown",
   "id": "2866ca03-1f87-466e-ab0a-dd69140496e6",
   "metadata": {},
   "source": [
    "**Make a ECDF plot of the school vaccination rates in North Carolina.** Use the `overall` column which reports the \"overall\" vaccination rate at each school.\n",
    "\n",
    "❗️Remember, you can calculate the `y` value for ECDF charts using `row_number`, `mutate`, and `arrange`."
   ]
  },
  {
   "cell_type": "code",
   "execution_count": 5,
   "id": "5e7c8fa8-49a0-4726-a081-6772765bfc0d",
   "metadata": {
    "tags": []
   },
   "outputs": [
    {
     "data": {
      "text/html": [
       "<table class=\"dataframe\">\n",
       "<caption>A data.frame: 6 × 18</caption>\n",
       "<thead>\n",
       "\t<tr><th></th><th scope=col>index</th><th scope=col>state</th><th scope=col>year</th><th scope=col>name</th><th scope=col>type</th><th scope=col>city</th><th scope=col>county</th><th scope=col>district</th><th scope=col>enroll</th><th scope=col>mmr</th><th scope=col>overall</th><th scope=col>xrel</th><th scope=col>xmed</th><th scope=col>xper</th><th scope=col>lat</th><th scope=col>lng</th><th scope=col>rn</th><th scope=col>y</th></tr>\n",
       "\t<tr><th></th><th scope=col>&lt;int&gt;</th><th scope=col>&lt;chr&gt;</th><th scope=col>&lt;chr&gt;</th><th scope=col>&lt;chr&gt;</th><th scope=col>&lt;chr&gt;</th><th scope=col>&lt;chr&gt;</th><th scope=col>&lt;chr&gt;</th><th scope=col>&lt;lgl&gt;</th><th scope=col>&lt;int&gt;</th><th scope=col>&lt;dbl&gt;</th><th scope=col>&lt;dbl&gt;</th><th scope=col>&lt;lgl&gt;</th><th scope=col>&lt;dbl&gt;</th><th scope=col>&lt;dbl&gt;</th><th scope=col>&lt;dbl&gt;</th><th scope=col>&lt;dbl&gt;</th><th scope=col>&lt;int&gt;</th><th scope=col>&lt;dbl&gt;</th></tr>\n",
       "</thead>\n",
       "<tbody>\n",
       "\t<tr><th scope=row>1</th><td>1767</td><td>North Carolina</td><td>2018-19</td><td>Renaissance Montessori Sch. of Cary</td><td>NA</td><td>NA</td><td>Wake       </td><td>NA</td><td> 4</td><td>-1</td><td>-1.0</td><td>NA</td><td>NA</td><td>NA</td><td>35.76823</td><td>-78.74369</td><td>1</td><td>0.0004796163</td></tr>\n",
       "\t<tr><th scope=row>2</th><td>1766</td><td>North Carolina</td><td>2018-19</td><td>Annunciation Catholic              </td><td>NA</td><td>NA</td><td>Craven     </td><td>NA</td><td>23</td><td>-1</td><td>21.7</td><td>NA</td><td>NA</td><td>NA</td><td>34.87682</td><td>-76.90448</td><td>2</td><td>0.0009592326</td></tr>\n",
       "\t<tr><th scope=row>3</th><td>1765</td><td>North Carolina</td><td>2018-19</td><td>Starmount Acad of Excellence       </td><td>NA</td><td>NA</td><td>Mecklenburg</td><td>NA</td><td>77</td><td>-1</td><td>40.3</td><td>NA</td><td>NA</td><td>NA</td><td>35.13929</td><td>-80.87051</td><td>3</td><td>0.0014388489</td></tr>\n",
       "\t<tr><th scope=row>4</th><td>1764</td><td>North Carolina</td><td>2018-19</td><td>Spruce Pine Montessori             </td><td>NA</td><td>NA</td><td>Mitchell   </td><td>NA</td><td> 7</td><td>-1</td><td>42.9</td><td>NA</td><td>NA</td><td>NA</td><td>35.91674</td><td>-82.06719</td><td>4</td><td>0.0019184652</td></tr>\n",
       "\t<tr><th scope=row>5</th><td>1763</td><td>North Carolina</td><td>2018-19</td><td>Moyock Elementary                  </td><td>NA</td><td>NA</td><td>Currituck  </td><td>NA</td><td>85</td><td>-1</td><td>43.5</td><td>NA</td><td>NA</td><td>NA</td><td>36.52490</td><td>-76.17366</td><td>5</td><td>0.0023980815</td></tr>\n",
       "\t<tr><th scope=row>6</th><td>1762</td><td>North Carolina</td><td>2018-19</td><td>Liberty Christian                  </td><td>NA</td><td>NA</td><td>Durham     </td><td>NA</td><td>20</td><td>-1</td><td>45.0</td><td>NA</td><td> 5</td><td>NA</td><td>36.06362</td><td>-78.92544</td><td>6</td><td>0.0028776978</td></tr>\n",
       "</tbody>\n",
       "</table>\n"
      ],
      "text/latex": [
       "A data.frame: 6 × 18\n",
       "\\begin{tabular}{r|llllllllllllllllll}\n",
       "  & index & state & year & name & type & city & county & district & enroll & mmr & overall & xrel & xmed & xper & lat & lng & rn & y\\\\\n",
       "  & <int> & <chr> & <chr> & <chr> & <chr> & <chr> & <chr> & <lgl> & <int> & <dbl> & <dbl> & <lgl> & <dbl> & <dbl> & <dbl> & <dbl> & <int> & <dbl>\\\\\n",
       "\\hline\n",
       "\t1 & 1767 & North Carolina & 2018-19 & Renaissance Montessori Sch. of Cary & NA & NA & Wake        & NA &  4 & -1 & -1.0 & NA & NA & NA & 35.76823 & -78.74369 & 1 & 0.0004796163\\\\\n",
       "\t2 & 1766 & North Carolina & 2018-19 & Annunciation Catholic               & NA & NA & Craven      & NA & 23 & -1 & 21.7 & NA & NA & NA & 34.87682 & -76.90448 & 2 & 0.0009592326\\\\\n",
       "\t3 & 1765 & North Carolina & 2018-19 & Starmount Acad of Excellence        & NA & NA & Mecklenburg & NA & 77 & -1 & 40.3 & NA & NA & NA & 35.13929 & -80.87051 & 3 & 0.0014388489\\\\\n",
       "\t4 & 1764 & North Carolina & 2018-19 & Spruce Pine Montessori              & NA & NA & Mitchell    & NA &  7 & -1 & 42.9 & NA & NA & NA & 35.91674 & -82.06719 & 4 & 0.0019184652\\\\\n",
       "\t5 & 1763 & North Carolina & 2018-19 & Moyock Elementary                   & NA & NA & Currituck   & NA & 85 & -1 & 43.5 & NA & NA & NA & 36.52490 & -76.17366 & 5 & 0.0023980815\\\\\n",
       "\t6 & 1762 & North Carolina & 2018-19 & Liberty Christian                   & NA & NA & Durham      & NA & 20 & -1 & 45.0 & NA &  5 & NA & 36.06362 & -78.92544 & 6 & 0.0028776978\\\\\n",
       "\\end{tabular}\n"
      ],
      "text/markdown": [
       "\n",
       "A data.frame: 6 × 18\n",
       "\n",
       "| <!--/--> | index &lt;int&gt; | state &lt;chr&gt; | year &lt;chr&gt; | name &lt;chr&gt; | type &lt;chr&gt; | city &lt;chr&gt; | county &lt;chr&gt; | district &lt;lgl&gt; | enroll &lt;int&gt; | mmr &lt;dbl&gt; | overall &lt;dbl&gt; | xrel &lt;lgl&gt; | xmed &lt;dbl&gt; | xper &lt;dbl&gt; | lat &lt;dbl&gt; | lng &lt;dbl&gt; | rn &lt;int&gt; | y &lt;dbl&gt; |\n",
       "|---|---|---|---|---|---|---|---|---|---|---|---|---|---|---|---|---|---|---|\n",
       "| 1 | 1767 | North Carolina | 2018-19 | Renaissance Montessori Sch. of Cary | NA | NA | Wake        | NA |  4 | -1 | -1.0 | NA | NA | NA | 35.76823 | -78.74369 | 1 | 0.0004796163 |\n",
       "| 2 | 1766 | North Carolina | 2018-19 | Annunciation Catholic               | NA | NA | Craven      | NA | 23 | -1 | 21.7 | NA | NA | NA | 34.87682 | -76.90448 | 2 | 0.0009592326 |\n",
       "| 3 | 1765 | North Carolina | 2018-19 | Starmount Acad of Excellence        | NA | NA | Mecklenburg | NA | 77 | -1 | 40.3 | NA | NA | NA | 35.13929 | -80.87051 | 3 | 0.0014388489 |\n",
       "| 4 | 1764 | North Carolina | 2018-19 | Spruce Pine Montessori              | NA | NA | Mitchell    | NA |  7 | -1 | 42.9 | NA | NA | NA | 35.91674 | -82.06719 | 4 | 0.0019184652 |\n",
       "| 5 | 1763 | North Carolina | 2018-19 | Moyock Elementary                   | NA | NA | Currituck   | NA | 85 | -1 | 43.5 | NA | NA | NA | 36.52490 | -76.17366 | 5 | 0.0023980815 |\n",
       "| 6 | 1762 | North Carolina | 2018-19 | Liberty Christian                   | NA | NA | Durham      | NA | 20 | -1 | 45.0 | NA |  5 | NA | 36.06362 | -78.92544 | 6 | 0.0028776978 |\n",
       "\n"
      ],
      "text/plain": [
       "  index state          year    name                                type city\n",
       "1 1767  North Carolina 2018-19 Renaissance Montessori Sch. of Cary NA   NA  \n",
       "2 1766  North Carolina 2018-19 Annunciation Catholic               NA   NA  \n",
       "3 1765  North Carolina 2018-19 Starmount Acad of Excellence        NA   NA  \n",
       "4 1764  North Carolina 2018-19 Spruce Pine Montessori              NA   NA  \n",
       "5 1763  North Carolina 2018-19 Moyock Elementary                   NA   NA  \n",
       "6 1762  North Carolina 2018-19 Liberty Christian                   NA   NA  \n",
       "  county      district enroll mmr overall xrel xmed xper lat      lng       rn\n",
       "1 Wake        NA        4     -1  -1.0    NA   NA   NA   35.76823 -78.74369 1 \n",
       "2 Craven      NA       23     -1  21.7    NA   NA   NA   34.87682 -76.90448 2 \n",
       "3 Mecklenburg NA       77     -1  40.3    NA   NA   NA   35.13929 -80.87051 3 \n",
       "4 Mitchell    NA        7     -1  42.9    NA   NA   NA   35.91674 -82.06719 4 \n",
       "5 Currituck   NA       85     -1  43.5    NA   NA   NA   36.52490 -76.17366 5 \n",
       "6 Durham      NA       20     -1  45.0    NA    5   NA   36.06362 -78.92544 6 \n",
       "  y           \n",
       "1 0.0004796163\n",
       "2 0.0009592326\n",
       "3 0.0014388489\n",
       "4 0.0019184652\n",
       "5 0.0023980815\n",
       "6 0.0028776978"
      ]
     },
     "metadata": {},
     "output_type": "display_data"
    },
    {
     "data": {
      "image/png": "[encoded data removed]",
      "text/plain": [
       "plot without title"
      ]
     },
     "metadata": {
      "image/png": {
       "height": 450,
       "width": 600
      }
     },
     "output_type": "display_data"
    }
   ],
   "source": [
    "ecdf = measles |>\n",
    "    filter(state == 'North Carolina') |>\n",
    "    arrange(overall) |>\n",
    "    mutate(rn = row_number(), y = rn / max(rn))\n",
    "\n",
    "head(ecdf)\n",
    "\n",
    "options(repr.plot.width = 4, repr.plot.height = 3, repr.plot.res = 300)\n",
    "\n",
    "p = ggplot(ecdf, aes(x=overall, y=y)) + \n",
    "    geom_step(color='darkblue') + geom_point(color='darkblue', size=.75)+\n",
    "    theme(legend.position = 'top') +\n",
    "    labs(y='Fraction of Schools',x='Vaccination Rates(%)')  +\n",
    "    # scale_x_continuous(labels = scales::percent) +\n",
    "    geom_vline(aes(xintercept=95, color='brickred'))\n",
    "\n",
    "p"
   ]
  },
  {
   "cell_type": "markdown",
   "id": "8f5ea83f-c904-46ee-9f52-af1bd1afbc96",
   "metadata": {},
   "source": [
    "(My solution is below if you want to peek 👀. Uncomment the code, change the cell to `markdown`, and exectute it.)"
   ]
  },
  {
   "cell_type": "markdown",
   "id": "cad9b2fa-001b-420a-ae23-ee6323c8494d",
   "metadata": {},
   "source": [
    "![](https://github.com/chuckpr/BIOS512/blob/main/assignments/measles-chart.png?raw=true)"
   ]
  },
  {
   "cell_type": "markdown",
   "id": "d2041941-dcee-42e8-957f-a725dc36388f",
   "metadata": {},
   "source": [
    "Is the median vaccination rate for NC schools above the CDC recommended target?"
   ]
  },
  {
   "cell_type": "markdown",
   "id": "4b250211-1c91-43aa-8b80-5c560e9dab22",
   "metadata": {},
   "source": [
    "Yes"
   ]
  },
  {
   "cell_type": "code",
   "execution_count": null,
   "id": "e96a3240-621a-49f9-a524-c44c561f6263",
   "metadata": {},
   "outputs": [],
   "source": []
  }
 ],
 "metadata": {
  "kernelspec": {
   "display_name": "bios512:R",
   "language": "R",
   "name": "conda-env-bios512-r"
  },
  "language_info": {
   "codemirror_mode": "r",
   "file_extension": ".r",
   "mimetype": "text/x-r-source",
   "name": "R",
   "pygments_lexer": "r",
   "version": "4.3.1"
  }
 },
 "nbformat": 4,
 "nbformat_minor": 5
}
